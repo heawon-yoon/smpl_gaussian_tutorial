{
 "cells": [
  {
   "cell_type": "markdown",
   "source": [
    " ## 3D Gaussian Splatting简介\n",
    "2023年年底3D Gaussian Splatting横跨出世.在3D重建领域迅速爆火.\n",
    "3D重建在AIGC,视频特效,真实场景模拟,数字人 AI等等领域有着广泛应用.\n",
    "比起之前的Nerf技术,3D Gaussian有着特别快速的训练速度跟实时渲染能力.\n",
    "github: https://github.com/graphdeco-inria/gaussian-splatting\n"
   ],
   "metadata": {
    "collapsed": false
   },
   "id": "c08423e20973dc0"
  },
  {
   "cell_type": "markdown",
   "source": [
    "## ubuntu环境搭建"
   ],
   "metadata": {
    "collapsed": false
   },
   "id": "d6d35e97c969abd8"
  },
  {
   "cell_type": "markdown",
   "source": [
    "#代码下载\n",
    "# HTTPS\n",
    "git clone https://github.com/graphdeco-inria/gaussian-splatting --recursive\n",
    "cd gaussian-splatting\n",
    "#conda 虚拟环境搭建\n",
    "conda create -n gaussian python=3.8 -y\n",
    "conda activate gaussian\n",
    "\n",
    "#torch \n",
    "conda install -y pytorch==1.13.1 torchvision==0.14.1 torchaudio==0.13.1 pytorch-cuda=11.7 -c pytorch -c nvidia\n",
    "\n",
    "#c++ 环境\n",
    "sudo apt-get update\n",
    "sudo apt install build-essential\n",
    "sudo apt-get install ninja-build\n",
    "\n",
    "#gaussian submodules\n",
    "pip install submodules/diff-gaussian-rasterization\n",
    "pip install submodules/simple-knn\n",
    "\n",
    "# if happen error: [Errno 2] No such file or directory: ':/usr/local/cuda-11.8/bin/nvcc'\n",
    "export CUDA_HOME=/usr/local/cuda\n",
    "\n",
    "#requirements\n",
    "pip install plyfile tensorboard tqdm six numpy==1.22"
   ],
   "metadata": {
    "collapsed": false
   },
   "id": "67c337709d8ef51"
  },
  {
   "cell_type": "markdown",
   "source": [
    "## 训练及查看PLY文件模型\n",
    "官网上自行下载数据集tandt_db\n",
    "\n",
    "#train\n",
    "python train.py -s ./data/tandt/truck\n",
    "\n",
    "#tensorboard\n",
    "tensorboard --logdir=./output/XXXX\n",
    "\n",
    "#ssh 本地连接服务器 查看tensorboard\n",
    "ssh -CNg -L 6006:127.0.0.1:6006 root@223.109.239.11 -p 16924\n",
    "\n",
    "#view模型\n",
    "free tool : https://poly.cam/ "
   ],
   "metadata": {
    "collapsed": false
   },
   "id": "93c3803076f67433"
  },
  {
   "cell_type": "code",
   "outputs": [],
   "source": [],
   "metadata": {
    "collapsed": false
   },
   "id": "492488f9238d4706"
  }
 ],
 "metadata": {
  "kernelspec": {
   "display_name": "Python 3",
   "language": "python",
   "name": "python3"
  },
  "language_info": {
   "codemirror_mode": {
    "name": "ipython",
    "version": 2
   },
   "file_extension": ".py",
   "mimetype": "text/x-python",
   "name": "python",
   "nbconvert_exporter": "python",
   "pygments_lexer": "ipython2",
   "version": "2.7.6"
  }
 },
 "nbformat": 4,
 "nbformat_minor": 5
}
