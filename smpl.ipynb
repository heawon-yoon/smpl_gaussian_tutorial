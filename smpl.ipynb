{
 "cells": [
  {
   "cell_type": "markdown",
   "source": [
    "## SMPL简介\n",
    "SMPL: A Skinned Multi-Person Linear Model \n",
    "是一种3D人体建模方法.在数字人或者人物角色三维重建领域有着广泛应用\n",
    "支持人体的各种形状及动作\n",
    "可以简单理解为通过训练获取的人物模型\n",
    "常用的模型有 smpl(身体模型),mano(手部模型),smplh(身体+手部),flame(脸部),smplx(身体+手部+脸部)\n",
    "官网:https://smpl-x.is.tue.mpg.de/index.html\n",
    " https://smpl.is.tue.mpg.de\n"
   ],
   "metadata": {
    "collapsed": false
   },
   "id": "c08423e20973dc0"
  },
  {
   "cell_type": "markdown",
   "source": [],
   "metadata": {
    "collapsed": false
   },
   "id": "4fd8e4482180bf76"
  },
  {
   "cell_type": "markdown",
   "source": [
    "## 基本原理\n",
    "<div>\n",
    "  <img src=\"assets/basic.png\" alt=\"Image 1\" width=\"1000\" height=\"600\" style=\"display: inline; margin-right: 10px;\">\n",
    "</div>\n",
    "\n",
    "a. T-pose姿态.常用的模版Pose有T-Pose,A-Pose,Da-Pose\n",
    "b. 改变β参数的姿态,J关节点的变化\n",
    "c. 改变β跟θ参数的姿态,此时还没有发生变化\n",
    "d. 加上权重通过蒙皮算法的姿态"
   ],
   "metadata": {
    "collapsed": false
   },
   "id": "f2f97f955498476d"
  },
  {
   "cell_type": "markdown",
   "source": [],
   "metadata": {
    "collapsed": false
   },
   "id": "f15babd15f1c52e1"
  },
  {
   "cell_type": "markdown",
   "source": [],
   "metadata": {
    "collapsed": false
   },
   "id": "86f49359ccf11eae"
  },
  {
   "cell_type": "markdown",
   "source": [
    "## 环境搭建"
   ],
   "metadata": {
    "collapsed": false
   },
   "id": "d6d35e97c969abd8"
  },
  {
   "cell_type": "markdown",
   "source": [
    "#代码下载\n",
    "git clone https://github.com/vchoutas/smplx.git\n",
    "cd smplx\n",
    "#conda 虚拟环境搭建\n",
    "conda create -n smplx python=3.8 -y\n",
    "conda activate smplx\n",
    "\n",
    "#torch \n",
    "conda install -y pytorch==1.13.1 torchvision==0.14.1 torchaudio==0.13.1 pytorch-cuda=11.7 -c pytorch -c nvidia\n",
    "\n",
    "pip install smplx\n",
    "\n",
    "#matplotlib y轴朝上\n",
    "ax.view_init(azim=-90, elev=100)"
   ],
   "metadata": {
    "collapsed": false
   },
   "id": "67c337709d8ef51"
  },
  {
   "cell_type": "markdown",
   "source": [
    "## pyrender 离线渲染包安装"
   ],
   "metadata": {
    "collapsed": false
   },
   "id": "93c3803076f67433"
  },
  {
   "cell_type": "markdown",
   "source": [
    "官方安装教程:https://pyrender.readthedocs.io/en/latest/install/index.html#installmesa\n",
    "\n",
    "1. pip install pyrender\n",
    "2. clang6.0安装\n",
    "下载地址:https://releases.llvm.org/download.html#6.0.0\n",
    "tar -xf clang+llvm-6.0.0-x86_64-linux-gnu-ubuntu-16.04.tar.xz \n",
    "mv clang+llvm-6.0.0-x86_64-linux-gnu-ubuntu-16.04/ clang6.0\n",
    "vim ~/.bashrc\n",
    "export PATH=$PATH:/usr/local/clang6.0/bin\n",
    "source ~/.bashrc\n",
    "conda activate smplx\n",
    "clang -v\n",
    "\n",
    "3. Mesa 安装\n",
    "sudo apt update\n",
    "wget https://github.com/mmatl/travis_debs/raw/master/xenial/mesa_18.3.3-0.deb\n",
    "sudo apt-get install  freeglut3 freeglut3-dev\n",
    "sudo dpkg -i ./mesa_18.3.3-0.deb || true\n",
    "#if error happend try cmd apt -fix-broken install\n",
    "sudo apt install -f\n",
    "\n",
    "4. 安装兼容的opengl\n",
    "git clone https://github.com/mmatl/pyopengl.git\n",
    "pip install ./pyopengl\n",
    "\n",
    "#安装cv2 图片包\n",
    "pip install opencv-python\n",
    "执行命令前先执行\n",
    "export PYOPENGL_PLATFORM=osmesa\n",
    "\n",
    "#smpl 模型需要兼容版本chumpy\n",
    "pip install git+https://github.com/mattloper/chumpy.git\n",
    "\n",
    "替换一下 smpl项目的examples/demo.py 添加一下smpl/renderer.py到examples目录下面"
   ],
   "metadata": {
    "collapsed": false
   },
   "id": "fb9b4257d2c49704"
  },
  {
   "cell_type": "markdown",
   "source": [
    "## SMPL 应用"
   ],
   "metadata": {
    "collapsed": false
   },
   "id": "cdfac8dc08b9ff7b"
  },
  {
   "cell_type": "markdown",
   "source": [
    "图片转SMPLX模型\n",
    "https://github.com/mks0601/Hand4Whole_RELEASE\n",
    "视频转POSE模型\n",
    "https://github.com/hongsukchoi/TCMR_RELEASE\n",
    "\n"
   ],
   "metadata": {
    "collapsed": false
   },
   "id": "d190498f530ec1a6"
  },
  {
   "cell_type": "code",
   "outputs": [],
   "source": [],
   "metadata": {
    "collapsed": false,
    "ExecuteTime": {
     "end_time": "2024-06-19T08:12:11.192882Z",
     "start_time": "2024-06-19T08:12:11.165819Z"
    }
   },
   "id": "492488f9238d4706",
   "execution_count": 1
  }
 ],
 "metadata": {
  "kernelspec": {
   "display_name": "Python 3",
   "language": "python",
   "name": "python3"
  },
  "language_info": {
   "codemirror_mode": {
    "name": "ipython",
    "version": 2
   },
   "file_extension": ".py",
   "mimetype": "text/x-python",
   "name": "python",
   "nbconvert_exporter": "python",
   "pygments_lexer": "ipython2",
   "version": "2.7.6"
  }
 },
 "nbformat": 4,
 "nbformat_minor": 5
}
