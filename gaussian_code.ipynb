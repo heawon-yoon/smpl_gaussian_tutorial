{
 "cells": [
  {
   "cell_type": "markdown",
   "source": [
    "## 3D Gaussians 代码解读"
   ],
   "metadata": {
    "collapsed": false
   },
   "id": "e6d7a8af8ab424fe"
  },
  {
   "cell_type": "markdown",
   "source": [
    "### 光栅化渲染过程\n",
    "\n",
    "<div>\n",
    "  <img src=\"assets/gaussian_base.png\" alt=\"Image 1\" width=\"1800\" height=\"1200\" style=\"display: inline; margin-right: 10px;\">\n",
    "</div>\n",
    "\n",
    "\n",
    "### 密度优化过程\n",
    "\n",
    "<div>\n",
    "  <img src=\"assets/dens.png\" alt=\"Image 1\" width=\"1200\" height=\"800\" style=\"display: inline; margin-right: 10px;\">\n",
    "</div>"
   ],
   "metadata": {
    "collapsed": false
   },
   "id": "9576714ba487e407"
  },
  {
   "cell_type": "markdown",
   "source": [
    "### 技术流程\n",
    "\n",
    "python->c++>cuda"
   ],
   "metadata": {
    "collapsed": false
   },
   "id": "f953575c27ff7359"
  },
  {
   "cell_type": "markdown",
   "source": [
    "### Python 代码\n",
    "\n",
    "\n",
    "train.py\n",
    " &nbsp;&nbsp;训练代码主入口\n",
    "\n",
    "scene/__init_py\n",
    " &nbsp;&nbsp;场景训练数据,相机数据,gaussian模型初始化\n",
    " \n",
    "gaussian_model.py\n",
    " &nbsp;&nbsp;gaussian模型核心代码\n",
    " \n",
    "gaussian_renderer/__init__.py\n",
    " &nbsp;&nbsp;render渲染核心代码\n",
    "\n",
    "\n",
    "\n"
   ],
   "metadata": {
    "collapsed": false
   },
   "id": "7c42272d494edaa2"
  },
  {
   "cell_type": "markdown",
   "source": [
    "## Cuda代码流程\n",
    "1. gaussian_renderer/__init__.py 渲染的时候调用\n",
    "子模块的diff_gaussian_rasterization/__init__.py 文件\n",
    "class GaussianRasterizer(nn.Module)类\n",
    "2. class GaussianRasterizer(nn.Module)调用继承了自动微分的类class _RasterizeGaussians(torch.autograd.Function).重写forward跟backward方法.\n",
    "里面调用C++的rasterize_gaussians方法\n",
    "\n",
    "\n",
    "3. ext.cpp定义了python方法到rasterize_points文件的C++方法\n",
    "\n",
    "\n",
    "4. rasterize_points文件最终调用rasterizer_impl.cu的cuda代码\n",
    "主要看CudaRasterizer::Rasterizer::forward跟CudaRasterizer::Rasterizer::backword2个方法\n",
    "里面调用了forward跟backward的Cuda文件\n",
    "这两个就是核心文件\n",
    "\n",
    "5. 备注文件在forward.cu代码里\n",
    "\n",
    "\n",
    "\n"
   ],
   "metadata": {
    "collapsed": false
   },
   "id": "7e3fe372fbdb4443"
  },
  {
   "cell_type": "code",
   "outputs": [],
   "source": [],
   "metadata": {
    "collapsed": false,
    "ExecuteTime": {
     "end_time": "2024-06-19T08:12:06.410636Z",
     "start_time": "2024-06-19T08:12:06.407308Z"
    }
   },
   "id": "d14b675db44903f4",
   "execution_count": 2
  }
 ],
 "metadata": {
  "kernelspec": {
   "display_name": "Python 3",
   "language": "python",
   "name": "python3"
  },
  "language_info": {
   "codemirror_mode": {
    "name": "ipython",
    "version": 2
   },
   "file_extension": ".py",
   "mimetype": "text/x-python",
   "name": "python",
   "nbconvert_exporter": "python",
   "pygments_lexer": "ipython2",
   "version": "2.7.6"
  }
 },
 "nbformat": 4,
 "nbformat_minor": 5
}
